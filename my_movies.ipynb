{
 "cells": [
  {
   "cell_type": "code",
   "execution_count": 1,
   "id": "6e388f2e",
   "metadata": {},
   "outputs": [],
   "source": [
    "## Preparation of assocaition Rule ##"
   ]
  },
  {
   "cell_type": "code",
   "execution_count": 2,
   "id": "abe0577e",
   "metadata": {},
   "outputs": [],
   "source": [
    "## Problem Statmen:Prepare rules for the all the data sets \n",
    "##Try different values of support and confidence. Observe the change in number of rules for different support,confidence values\n",
    "##2) Change the minimum length in apriori algorithm\n",
    "##3) Visulize the obtained rules using different plots \n"
   ]
  },
  {
   "cell_type": "code",
   "execution_count": 3,
   "id": "8829f639",
   "metadata": {},
   "outputs": [],
   "source": [
    "import pandas as pd"
   ]
  },
  {
   "cell_type": "code",
   "execution_count": 5,
   "id": "c307b5c7",
   "metadata": {},
   "outputs": [
    {
     "name": "stdout",
     "output_type": "stream",
     "text": [
      "Collecting mlxtend\n",
      "  Downloading mlxtend-0.19.0-py2.py3-none-any.whl (1.3 MB)\n",
      "Requirement already satisfied: numpy>=1.16.2 in c:\\users\\hp\\anaconda3\\lib\\site-packages (from mlxtend) (1.20.1)\n",
      "Requirement already satisfied: scipy>=1.2.1 in c:\\users\\hp\\anaconda3\\lib\\site-packages (from mlxtend) (1.6.2)\n",
      "Requirement already satisfied: pandas>=0.24.2 in c:\\users\\hp\\anaconda3\\lib\\site-packages (from mlxtend) (1.2.4)\n",
      "Requirement already satisfied: matplotlib>=3.0.0 in c:\\users\\hp\\anaconda3\\lib\\site-packages (from mlxtend) (3.3.4)\n",
      "Requirement already satisfied: setuptools in c:\\users\\hp\\anaconda3\\lib\\site-packages (from mlxtend) (52.0.0.post20210125)\n",
      "Requirement already satisfied: scikit-learn>=0.20.3 in c:\\users\\hp\\anaconda3\\lib\\site-packages (from mlxtend) (0.24.1)\n",
      "Requirement already satisfied: joblib>=0.13.2 in c:\\users\\hp\\anaconda3\\lib\\site-packages (from mlxtend) (1.0.1)\n",
      "Requirement already satisfied: cycler>=0.10 in c:\\users\\hp\\anaconda3\\lib\\site-packages (from matplotlib>=3.0.0->mlxtend) (0.10.0)\n",
      "Requirement already satisfied: pillow>=6.2.0 in c:\\users\\hp\\anaconda3\\lib\\site-packages (from matplotlib>=3.0.0->mlxtend) (8.2.0)\n",
      "Requirement already satisfied: kiwisolver>=1.0.1 in c:\\users\\hp\\anaconda3\\lib\\site-packages (from matplotlib>=3.0.0->mlxtend) (1.3.1)\n",
      "Requirement already satisfied: pyparsing!=2.0.4,!=2.1.2,!=2.1.6,>=2.0.3 in c:\\users\\hp\\anaconda3\\lib\\site-packages (from matplotlib>=3.0.0->mlxtend) (2.4.7)\n",
      "Requirement already satisfied: python-dateutil>=2.1 in c:\\users\\hp\\anaconda3\\lib\\site-packages (from matplotlib>=3.0.0->mlxtend) (2.8.1)\n",
      "Requirement already satisfied: six in c:\\users\\hp\\anaconda3\\lib\\site-packages (from cycler>=0.10->matplotlib>=3.0.0->mlxtend) (1.15.0)\n",
      "Requirement already satisfied: pytz>=2017.3 in c:\\users\\hp\\anaconda3\\lib\\site-packages (from pandas>=0.24.2->mlxtend) (2021.1)\n",
      "Requirement already satisfied: threadpoolctl>=2.0.0 in c:\\users\\hp\\anaconda3\\lib\\site-packages (from scikit-learn>=0.20.3->mlxtend) (2.1.0)\n",
      "Installing collected packages: mlxtend\n",
      "Successfully installed mlxtend-0.19.0\n"
     ]
    }
   ],
   "source": [
    "!pip install mlxtend"
   ]
  },
  {
   "cell_type": "code",
   "execution_count": 6,
   "id": "c55c7940",
   "metadata": {},
   "outputs": [],
   "source": [
    "from mlxtend.frequent_patterns import apriori, association_rules"
   ]
  },
  {
   "cell_type": "code",
   "execution_count": 7,
   "id": "b14ef9af",
   "metadata": {},
   "outputs": [],
   "source": [
    "##import the data"
   ]
  },
  {
   "cell_type": "code",
   "execution_count": 8,
   "id": "e8b64386",
   "metadata": {},
   "outputs": [],
   "source": [
    "my_movies=pd.read_csv(\"C:/Users/hp/Desktop/Revannath Data Sci/Assignments/9-Association Rule/my_movies.csv\")"
   ]
  },
  {
   "cell_type": "code",
   "execution_count": 9,
   "id": "0da31648",
   "metadata": {},
   "outputs": [],
   "source": [
    "##Provided data is provided for the two combination of data havingf dummy and original data colomn"
   ]
  },
  {
   "cell_type": "code",
   "execution_count": 10,
   "id": "72a312d7",
   "metadata": {},
   "outputs": [],
   "source": [
    "##We will separate them and creating the data frame"
   ]
  },
  {
   "cell_type": "code",
   "execution_count": 11,
   "id": "59d0f9db",
   "metadata": {},
   "outputs": [],
   "source": [
    "movies = my_movies.iloc[:,5:] ##require the binary data to work so we have extracted the binary data"
   ]
  },
  {
   "cell_type": "code",
   "execution_count": 12,
   "id": "56503c68",
   "metadata": {},
   "outputs": [],
   "source": [
    "frequent_movies = apriori(movies,min_support  = 0.2, max_len = 2,use_colnames = True)"
   ]
  },
  {
   "cell_type": "code",
   "execution_count": 13,
   "id": "eb2652db",
   "metadata": {},
   "outputs": [
    {
     "data": {
      "text/html": [
       "<div>\n",
       "<style scoped>\n",
       "    .dataframe tbody tr th:only-of-type {\n",
       "        vertical-align: middle;\n",
       "    }\n",
       "\n",
       "    .dataframe tbody tr th {\n",
       "        vertical-align: top;\n",
       "    }\n",
       "\n",
       "    .dataframe thead th {\n",
       "        text-align: right;\n",
       "    }\n",
       "</style>\n",
       "<table border=\"1\" class=\"dataframe\">\n",
       "  <thead>\n",
       "    <tr style=\"text-align: right;\">\n",
       "      <th></th>\n",
       "      <th>support</th>\n",
       "    </tr>\n",
       "  </thead>\n",
       "  <tbody>\n",
       "    <tr>\n",
       "      <th>count</th>\n",
       "      <td>12.000000</td>\n",
       "    </tr>\n",
       "    <tr>\n",
       "      <th>mean</th>\n",
       "      <td>0.383333</td>\n",
       "    </tr>\n",
       "    <tr>\n",
       "      <th>std</th>\n",
       "      <td>0.203753</td>\n",
       "    </tr>\n",
       "    <tr>\n",
       "      <th>min</th>\n",
       "      <td>0.200000</td>\n",
       "    </tr>\n",
       "    <tr>\n",
       "      <th>25%</th>\n",
       "      <td>0.200000</td>\n",
       "    </tr>\n",
       "    <tr>\n",
       "      <th>50%</th>\n",
       "      <td>0.300000</td>\n",
       "    </tr>\n",
       "    <tr>\n",
       "      <th>75%</th>\n",
       "      <td>0.600000</td>\n",
       "    </tr>\n",
       "    <tr>\n",
       "      <th>max</th>\n",
       "      <td>0.700000</td>\n",
       "    </tr>\n",
       "  </tbody>\n",
       "</table>\n",
       "</div>"
      ],
      "text/plain": [
       "         support\n",
       "count  12.000000\n",
       "mean    0.383333\n",
       "std     0.203753\n",
       "min     0.200000\n",
       "25%     0.200000\n",
       "50%     0.300000\n",
       "75%     0.600000\n",
       "max     0.700000"
      ]
     },
     "execution_count": 13,
     "metadata": {},
     "output_type": "execute_result"
    }
   ],
   "source": [
    "frequent_movies.describe()"
   ]
  },
  {
   "cell_type": "code",
   "execution_count": 14,
   "id": "3f240941",
   "metadata": {},
   "outputs": [],
   "source": [
    "##Sorting most frequent movies according to support##"
   ]
  },
  {
   "cell_type": "code",
   "execution_count": 15,
   "id": "cf6253d7",
   "metadata": {},
   "outputs": [],
   "source": [
    "frequent_movies.sort_values('support',ascending = False, inplace = True)"
   ]
  },
  {
   "cell_type": "code",
   "execution_count": 16,
   "id": "65e9fde6",
   "metadata": {},
   "outputs": [],
   "source": [
    "movie_rules = association_rules(frequent_movies, metric = \"confidence\",min_threshold = 0.85)"
   ]
  },
  {
   "cell_type": "code",
   "execution_count": 17,
   "id": "ac62848c",
   "metadata": {},
   "outputs": [],
   "source": [
    "##various values of support and confidence we have narrowed down our rules too 5"
   ]
  },
  {
   "cell_type": "code",
   "execution_count": 18,
   "id": "8889d224",
   "metadata": {},
   "outputs": [],
   "source": [
    "def to_list(i):\n",
    "    return(sorted(list(i)))"
   ]
  },
  {
   "cell_type": "code",
   "execution_count": 19,
   "id": "25636ff0",
   "metadata": {},
   "outputs": [],
   "source": [
    "ma_movies = movie_rules.antecedents.apply(to_list)+movie_rules.consequents.apply(to_list)"
   ]
  },
  {
   "cell_type": "code",
   "execution_count": 20,
   "id": "c23417aa",
   "metadata": {},
   "outputs": [],
   "source": [
    "ma_movies = ma_movies.apply(sorted) ## used sorted for data sorting"
   ]
  },
  {
   "cell_type": "code",
   "execution_count": 21,
   "id": "86d47415",
   "metadata": {},
   "outputs": [],
   "source": [
    "rule_sets = list(ma_movies)"
   ]
  },
  {
   "cell_type": "code",
   "execution_count": 22,
   "id": "c1badfdf",
   "metadata": {},
   "outputs": [],
   "source": [
    "unique_rules_sets = [list(m) for m in set(tuple(i) for i in rule_sets)]"
   ]
  },
  {
   "cell_type": "code",
   "execution_count": 23,
   "id": "134da7cd",
   "metadata": {},
   "outputs": [],
   "source": [
    "index_rules = []"
   ]
  },
  {
   "cell_type": "code",
   "execution_count": 24,
   "id": "9350841a",
   "metadata": {},
   "outputs": [],
   "source": [
    "for i in unique_rules_sets:\n",
    "    index_rules.append(rule_sets.index(i))"
   ]
  },
  {
   "cell_type": "code",
   "execution_count": 25,
   "id": "d8df4a03",
   "metadata": {},
   "outputs": [],
   "source": [
    "### Get rules without any redundancy"
   ]
  },
  {
   "cell_type": "code",
   "execution_count": 26,
   "id": "8bb34aa5",
   "metadata": {},
   "outputs": [],
   "source": [
    "rules_no_redundancy = movie_rules.iloc[index_rules,:]"
   ]
  },
  {
   "cell_type": "code",
   "execution_count": 27,
   "id": "6848096b",
   "metadata": {},
   "outputs": [],
   "source": [
    "# Sorting them with respect to lift"
   ]
  },
  {
   "cell_type": "code",
   "execution_count": 28,
   "id": "0c957dd3",
   "metadata": {},
   "outputs": [
    {
     "data": {
      "text/html": [
       "<div>\n",
       "<style scoped>\n",
       "    .dataframe tbody tr th:only-of-type {\n",
       "        vertical-align: middle;\n",
       "    }\n",
       "\n",
       "    .dataframe tbody tr th {\n",
       "        vertical-align: top;\n",
       "    }\n",
       "\n",
       "    .dataframe thead th {\n",
       "        text-align: right;\n",
       "    }\n",
       "</style>\n",
       "<table border=\"1\" class=\"dataframe\">\n",
       "  <thead>\n",
       "    <tr style=\"text-align: right;\">\n",
       "      <th></th>\n",
       "      <th>antecedents</th>\n",
       "      <th>consequents</th>\n",
       "      <th>antecedent support</th>\n",
       "      <th>consequent support</th>\n",
       "      <th>support</th>\n",
       "      <th>confidence</th>\n",
       "      <th>lift</th>\n",
       "      <th>leverage</th>\n",
       "      <th>conviction</th>\n",
       "    </tr>\n",
       "  </thead>\n",
       "  <tbody>\n",
       "    <tr>\n",
       "      <th>3</th>\n",
       "      <td>(LOTR2)</td>\n",
       "      <td>(LOTR1)</td>\n",
       "      <td>0.2</td>\n",
       "      <td>0.2</td>\n",
       "      <td>0.2</td>\n",
       "      <td>1.0</td>\n",
       "      <td>5.000000</td>\n",
       "      <td>0.16</td>\n",
       "      <td>inf</td>\n",
       "    </tr>\n",
       "    <tr>\n",
       "      <th>2</th>\n",
       "      <td>(Green Mile)</td>\n",
       "      <td>(Sixth Sense)</td>\n",
       "      <td>0.2</td>\n",
       "      <td>0.6</td>\n",
       "      <td>0.2</td>\n",
       "      <td>1.0</td>\n",
       "      <td>1.666667</td>\n",
       "      <td>0.08</td>\n",
       "      <td>inf</td>\n",
       "    </tr>\n",
       "    <tr>\n",
       "      <th>0</th>\n",
       "      <td>(Patriot)</td>\n",
       "      <td>(Gladiator)</td>\n",
       "      <td>0.6</td>\n",
       "      <td>0.7</td>\n",
       "      <td>0.6</td>\n",
       "      <td>1.0</td>\n",
       "      <td>1.428571</td>\n",
       "      <td>0.18</td>\n",
       "      <td>inf</td>\n",
       "    </tr>\n",
       "  </tbody>\n",
       "</table>\n",
       "</div>"
      ],
      "text/plain": [
       "    antecedents    consequents  antecedent support  consequent support  \\\n",
       "3       (LOTR2)        (LOTR1)                 0.2                 0.2   \n",
       "2  (Green Mile)  (Sixth Sense)                 0.2                 0.6   \n",
       "0     (Patriot)    (Gladiator)                 0.6                 0.7   \n",
       "\n",
       "   support  confidence      lift  leverage  conviction  \n",
       "3      0.2         1.0  5.000000      0.16         inf  \n",
       "2      0.2         1.0  1.666667      0.08         inf  \n",
       "0      0.6         1.0  1.428571      0.18         inf  "
      ]
     },
     "execution_count": 28,
     "metadata": {},
     "output_type": "execute_result"
    }
   ],
   "source": [
    "rules_no_redundancy.sort_values('lift',ascending=False)"
   ]
  },
  {
   "cell_type": "code",
   "execution_count": 29,
   "id": "2ce7c200",
   "metadata": {},
   "outputs": [
    {
     "data": {
      "text/html": [
       "<div>\n",
       "<style scoped>\n",
       "    .dataframe tbody tr th:only-of-type {\n",
       "        vertical-align: middle;\n",
       "    }\n",
       "\n",
       "    .dataframe tbody tr th {\n",
       "        vertical-align: top;\n",
       "    }\n",
       "\n",
       "    .dataframe thead th {\n",
       "        text-align: right;\n",
       "    }\n",
       "</style>\n",
       "<table border=\"1\" class=\"dataframe\">\n",
       "  <thead>\n",
       "    <tr style=\"text-align: right;\">\n",
       "      <th></th>\n",
       "      <th>antecedents</th>\n",
       "      <th>consequents</th>\n",
       "      <th>antecedent support</th>\n",
       "      <th>consequent support</th>\n",
       "      <th>support</th>\n",
       "      <th>confidence</th>\n",
       "      <th>lift</th>\n",
       "      <th>leverage</th>\n",
       "      <th>conviction</th>\n",
       "    </tr>\n",
       "  </thead>\n",
       "  <tbody>\n",
       "    <tr>\n",
       "      <th>0</th>\n",
       "      <td>(Patriot)</td>\n",
       "      <td>(Gladiator)</td>\n",
       "      <td>0.6</td>\n",
       "      <td>0.7</td>\n",
       "      <td>0.6</td>\n",
       "      <td>1.0</td>\n",
       "      <td>1.428571</td>\n",
       "      <td>0.18</td>\n",
       "      <td>inf</td>\n",
       "    </tr>\n",
       "    <tr>\n",
       "      <th>2</th>\n",
       "      <td>(Green Mile)</td>\n",
       "      <td>(Sixth Sense)</td>\n",
       "      <td>0.2</td>\n",
       "      <td>0.6</td>\n",
       "      <td>0.2</td>\n",
       "      <td>1.0</td>\n",
       "      <td>1.666667</td>\n",
       "      <td>0.08</td>\n",
       "      <td>inf</td>\n",
       "    </tr>\n",
       "    <tr>\n",
       "      <th>3</th>\n",
       "      <td>(LOTR2)</td>\n",
       "      <td>(LOTR1)</td>\n",
       "      <td>0.2</td>\n",
       "      <td>0.2</td>\n",
       "      <td>0.2</td>\n",
       "      <td>1.0</td>\n",
       "      <td>5.000000</td>\n",
       "      <td>0.16</td>\n",
       "      <td>inf</td>\n",
       "    </tr>\n",
       "  </tbody>\n",
       "</table>\n",
       "</div>"
      ],
      "text/plain": [
       "    antecedents    consequents  antecedent support  consequent support  \\\n",
       "0     (Patriot)    (Gladiator)                 0.6                 0.7   \n",
       "2  (Green Mile)  (Sixth Sense)                 0.2                 0.6   \n",
       "3       (LOTR2)        (LOTR1)                 0.2                 0.2   \n",
       "\n",
       "   support  confidence      lift  leverage  conviction  \n",
       "0      0.6         1.0  1.428571      0.18         inf  \n",
       "2      0.2         1.0  1.666667      0.08         inf  \n",
       "3      0.2         1.0  5.000000      0.16         inf  "
      ]
     },
     "execution_count": 29,
     "metadata": {},
     "output_type": "execute_result"
    }
   ],
   "source": [
    "rules_no_redundancy"
   ]
  },
  {
   "cell_type": "code",
   "execution_count": 30,
   "id": "93df9461",
   "metadata": {},
   "outputs": [],
   "source": [
    "##Now plotting "
   ]
  },
  {
   "cell_type": "code",
   "execution_count": 31,
   "id": "9a68dfe6",
   "metadata": {},
   "outputs": [],
   "source": [
    "import matplotlib.pyplot as plt"
   ]
  },
  {
   "cell_type": "code",
   "execution_count": 32,
   "id": "3f9ef454",
   "metadata": {},
   "outputs": [
    {
     "data": {
      "text/plain": [
       "Text(0, 0.5, 'Confidence')"
      ]
     },
     "execution_count": 32,
     "metadata": {},
     "output_type": "execute_result"
    },
    {
     "data": {
      "image/png": "[encoded data removed]",
      "text/plain": [
       "<Figure size 432x288 with 1 Axes>"
      ]
     },
     "metadata": {
      "needs_background": "light"
     },
     "output_type": "display_data"
    }
   ],
   "source": [
    "plt.scatter(rules_no_redundancy.support,rules_no_redundancy.confidence);plt.xlabel(\"Support\");plt.ylabel(\"Confidence\")"
   ]
  },
  {
   "cell_type": "code",
   "execution_count": null,
   "id": "88e350ba",
   "metadata": {},
   "outputs": [],
   "source": []
  }
 ],
 "metadata": {
  "_draft": {
   "nbviewer_url": "https://gist.github.com/11416f167b87e4f8169e0121e33b910c"
  },
  "gist": {
   "data": {
    "description": "my_movies.ipynb",
    "public": false
   },
   "id": "11416f167b87e4f8169e0121e33b910c"
  },
  "kernelspec": {
   "display_name": "Python 3",
   "language": "python",
   "name": "python3"
  },
  "language_info": {
   "codemirror_mode": {
    "name": "ipython",
    "version": 3
   },
   "file_extension": ".py",
   "mimetype": "text/x-python",
   "name": "python",
   "nbconvert_exporter": "python",
   "pygments_lexer": "ipython3",
   "version": "3.8.8"
  }
 },
 "nbformat": 4,
 "nbformat_minor": 5
}
