{
 "cells": [
  {
   "cell_type": "code",
   "execution_count": 2,
   "id": "04b37d0c",
   "metadata": {},
   "outputs": [],
   "source": [
    "## Revannath Jondhale ## books reccomdetion System##"
   ]
  },
  {
   "cell_type": "code",
   "execution_count": 3,
   "id": "fe6f0da1",
   "metadata": {},
   "outputs": [],
   "source": [
    "import pandas as pd"
   ]
  },
  {
   "cell_type": "code",
   "execution_count": 4,
   "id": "0b918d2b",
   "metadata": {},
   "outputs": [],
   "source": [
    "import numpy as np"
   ]
  },
  {
   "cell_type": "code",
   "execution_count": 32,
   "id": "722471a4",
   "metadata": {},
   "outputs": [],
   "source": [
    "book = pd.read_csv(\"C:/Users/hp/Downloads/book.csv\", encoding = \"ISO-8859-1\")"
   ]
  },
  {
   "cell_type": "code",
   "execution_count": 33,
   "id": "77982511",
   "metadata": {},
   "outputs": [
    {
     "data": {
      "text/plain": [
       "(10000, 4)"
      ]
     },
     "execution_count": 33,
     "metadata": {},
     "output_type": "execute_result"
    }
   ],
   "source": [
    "book.shape"
   ]
  },
  {
   "cell_type": "code",
   "execution_count": 34,
   "id": "e0cc9135",
   "metadata": {},
   "outputs": [
    {
     "data": {
      "text/plain": [
       "Index(['Unnamed: 0', 'User.ID', 'Book.Title', 'Book.Rating'], dtype='object')"
      ]
     },
     "execution_count": 34,
     "metadata": {},
     "output_type": "execute_result"
    }
   ],
   "source": [
    "book.columns"
   ]
  },
  {
   "cell_type": "code",
   "execution_count": 35,
   "id": "46a4949a",
   "metadata": {},
   "outputs": [],
   "source": [
    "book.columns = ['srno', 'user_id', 'book_title', 'book_rating']"
   ]
  },
  {
   "cell_type": "code",
   "execution_count": 36,
   "id": "24d3b37a",
   "metadata": {},
   "outputs": [],
   "source": [
    "from sklearn.feature_extraction.text import TfidfVectorizer ## Names of the columns are not usable so we are going to change them."
   ]
  },
  {
   "cell_type": "code",
   "execution_count": 37,
   "id": "023f19e2",
   "metadata": {},
   "outputs": [],
   "source": [
    "#Checking whether there are any empty strings"
   ]
  },
  {
   "cell_type": "code",
   "execution_count": 38,
   "id": "0d04b15d",
   "metadata": {},
   "outputs": [
    {
     "data": {
      "text/plain": [
       "0"
      ]
     },
     "execution_count": 38,
     "metadata": {},
     "output_type": "execute_result"
    }
   ],
   "source": [
    "book[\"book_title\"].isnull().sum()"
   ]
  },
  {
   "cell_type": "code",
   "execution_count": 39,
   "id": "e3e28b70",
   "metadata": {},
   "outputs": [],
   "source": [
    "tfidf = TfidfVectorizer(stop_words=\"english\")"
   ]
  },
  {
   "cell_type": "code",
   "execution_count": 40,
   "id": "5062e866",
   "metadata": {},
   "outputs": [],
   "source": [
    "# Preparing the Tfidf matrix by fitting and transforming"
   ]
  },
  {
   "cell_type": "code",
   "execution_count": 41,
   "id": "d431ae62",
   "metadata": {},
   "outputs": [],
   "source": [
    "tfidf_matrix_book = tfidf.fit_transform(book.book_title)"
   ]
  },
  {
   "cell_type": "code",
   "execution_count": 42,
   "id": "c3776d2c",
   "metadata": {},
   "outputs": [
    {
     "data": {
      "text/plain": [
       "(10000, 11435)"
      ]
     },
     "execution_count": 42,
     "metadata": {},
     "output_type": "execute_result"
    }
   ],
   "source": [
    "tfidf_matrix_book.shape"
   ]
  },
  {
   "cell_type": "code",
   "execution_count": 43,
   "id": "73f12426",
   "metadata": {},
   "outputs": [],
   "source": [
    "# We are going to use the cosine simillarity matrix for calcualating the simillarity score\n"
   ]
  },
  {
   "cell_type": "code",
   "execution_count": 44,
   "id": "c6ad0aca",
   "metadata": {},
   "outputs": [],
   "source": [
    "# book_rating_column = book.loc[:,'book_rating']"
   ]
  },
  {
   "cell_type": "code",
   "execution_count": 47,
   "id": "f1259060",
   "metadata": {},
   "outputs": [],
   "source": [
    "import numpy as np"
   ]
  },
  {
   "cell_type": "code",
   "execution_count": 48,
   "id": "efb59845",
   "metadata": {},
   "outputs": [
    {
     "ename": "NameError",
     "evalue": "name 'book_rating_column' is not defined",
     "output_type": "error",
     "traceback": [
      "\u001b[1;31m---------------------------------------------------------------------------\u001b[0m",
      "\u001b[1;31mNameError\u001b[0m                                 Traceback (most recent call last)",
      "\u001b[1;32m<ipython-input-48-fe3a52f5129c>\u001b[0m in \u001b[0;36m<module>\u001b[1;34m\u001b[0m\n\u001b[1;32m----> 1\u001b[1;33m \u001b[0mempty_mat\u001b[0m \u001b[1;33m=\u001b[0m \u001b[0mnp\u001b[0m\u001b[1;33m.\u001b[0m\u001b[0mzeros\u001b[0m\u001b[1;33m(\u001b[0m\u001b[0mbook_rating_column\u001b[0m\u001b[1;33m.\u001b[0m\u001b[0mshape\u001b[0m\u001b[1;33m[\u001b[0m\u001b[1;36m1\u001b[0m\u001b[1;33m]\u001b[0m\u001b[1;33m,\u001b[0m\u001b[0mbook_rating_column\u001b[0m\u001b[1;33m.\u001b[0m\u001b[0mshape\u001b[0m\u001b[1;33m[\u001b[0m\u001b[1;36m1\u001b[0m\u001b[1;33m]\u001b[0m\u001b[1;33m)\u001b[0m\u001b[1;33m\u001b[0m\u001b[1;33m\u001b[0m\u001b[0m\n\u001b[0m",
      "\u001b[1;31mNameError\u001b[0m: name 'book_rating_column' is not defined"
     ]
    }
   ],
   "source": [
    "empty_mat = np.zeros(book_rating_column.shape[1],book_rating_column.shape[1])"
   ]
  },
  {
   "cell_type": "code",
   "execution_count": 49,
   "id": "8120c86b",
   "metadata": {},
   "outputs": [],
   "source": [
    "from sklearn.metrics.pairwise import linear_kernel"
   ]
  },
  {
   "cell_type": "code",
   "execution_count": 50,
   "id": "fbd75ae2",
   "metadata": {},
   "outputs": [],
   "source": [
    "cosine_sim_matrix_book = linear_kernel(tfidf_matrix_book,tfidf_matrix_book)"
   ]
  },
  {
   "cell_type": "code",
   "execution_count": 51,
   "id": "c9138cb9",
   "metadata": {},
   "outputs": [],
   "source": [
    "cosine_sim_matrix_book = linear_kernel(tfidf_matrix_book,tfidf_matrix_book)"
   ]
  },
  {
   "cell_type": "code",
   "execution_count": 52,
   "id": "e296bd2d",
   "metadata": {},
   "outputs": [],
   "source": [
    "# creating a mapping of book name to index number "
   ]
  },
  {
   "cell_type": "code",
   "execution_count": 53,
   "id": "ea4f2c0e",
   "metadata": {},
   "outputs": [],
   "source": [
    "book_index = pd.Series(book.index,index=book['book_title']).drop_duplicates()"
   ]
  },
  {
   "cell_type": "code",
   "execution_count": 54,
   "id": "70a5d27b",
   "metadata": {},
   "outputs": [
    {
     "data": {
      "text/plain": [
       "13"
      ]
     },
     "execution_count": 54,
     "metadata": {},
     "output_type": "execute_result"
    }
   ],
   "source": [
    "book_index[\"Jane Doe\"]"
   ]
  },
  {
   "cell_type": "code",
   "execution_count": 76,
   "id": "766b878c",
   "metadata": {},
   "outputs": [],
   "source": [
    "def get_book_recommendations(Name,topN):\n",
    "    # Getting the movie index using it's title\n",
    "    book_id = book_index[Name]\n",
    "    \n",
    "    #Getting the pairwise simillarity score for all the books with that book\n",
    "    cosine_score = list(enumerate(cosine_sim_matrix_book[book_id]))\n",
    "    # Sorting cosine_simillarity scores based on the scores\n",
    "    cosine_score = sorted(cosine_score,key=lambda x:x[1],reverse = True)\n",
    "    \n",
    "    #get the score of the top 10 books\n",
    "    cosine_score_10 = cosine_score[0:topN+1]\n",
    "    \n",
    "    #Getting the book index\n",
    "    book_idx = [i[0] for i in cosine_score_10]\n",
    "    book_score = [i[1] for i in cosine_score_10]\n",
    "    \n",
    "    #simillar movies and scores\n",
    "    simillar_books = pd.DataFrame(columns=[\"name\", \"score\"])\n",
    "    simillar_books[\"name\"] = book.loc[book_idx,\"name\"]\n",
    "    simillar_books[\"score\"] = book_score\n",
    "    simillar_book.reset_index(inplace=True)\n",
    "    simillar_books.drop([\"index\"],axis=1, inplace = True)\n",
    "    print(simillar_books)"
   ]
  },
  {
   "cell_type": "code",
   "execution_count": null,
   "id": "7a368417",
   "metadata": {},
   "outputs": [],
   "source": [
    "get_book_recommendations(\"Night Watch\",topN=10)"
   ]
  }
 ],
 "metadata": {
  "kernelspec": {
   "display_name": "Python 3",
   "language": "python",
   "name": "python3"
  },
  "language_info": {
   "codemirror_mode": {
    "name": "ipython",
    "version": 3
   },
   "file_extension": ".py",
   "mimetype": "text/x-python",
   "name": "python",
   "nbconvert_exporter": "python",
   "pygments_lexer": "ipython3",
   "version": "3.8.8"
  }
 },
 "nbformat": 4,
 "nbformat_minor": 5
}
